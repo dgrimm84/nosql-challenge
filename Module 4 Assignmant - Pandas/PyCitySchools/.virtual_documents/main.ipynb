


# Dependencies and Setup
import pandas as pd
from pathlib import Path

# load each CSV file in the resources folder to get data
schools_complete_data_to_load = Path("Resources/schools_complete.csv")
student_complete_data_to_load = Path("Resources/students_complete.csv")

# Read School and Student Data File and store into Pandas DataFrames
school_data = pd.read_csv(schools_complete_data_to_load)
student_data = pd.read_csv(student_complete_data_to_load)

# Combine the data into a single dataset.
school_data_complete = pd.merge(student_data, school_data, how="left", on="school_name")
school_data_complete.head()






# Calculate the total number of unique schools
school_count = len(school_data_complete["school_name"].unique())


# Calculate the total number of students
student_count = len(school_data_complete["student_name"])


# Calculate the total budget
total_budget = sum(school_data["budget"])


# Calculate the average (mean) math score
average_math_score = school_data_complete["math_score"].mean()


# Calculate the average (mean) reading score
average_reading_score = school_data_complete["reading_score"].mean()


# Use the following to calculate the percentage of students who passed math (math scores greather than or equal to 70)
passing_math_count = school_data_complete[(school_data_complete["math_score"] >= 70)].count()["student_name"]
passing_math_percentage = passing_math_count / float(student_count) * 100


# Calculate the percentage of students who passed reading (hint: look at how the math percentage was calculated)
passing_reading_count = school_data_complete[(school_data_complete["reading_score"] >= 70)].count()["student_name"]
passing_reading_percentage = passing_reading_count / float(student_count) * 100


# Use the following to calculate the percentage of students that passed math and reading
passing_math_reading_count = school_data_complete[
    (school_data_complete["math_score"] >= 70) & (school_data_complete["reading_score"] >= 70)
].count()["student_name"]
overall_passing_rate = passing_math_reading_count /  float(student_count) * 100


# Create a high-level snapshot of the district's key metrics in a dataframe

# create a list of the varible values we have created up until this point
# to be called in the dataframe
district_summary_list = [school_count, student_count, total_budget, average_math_score, 
                         average_reading_score, passing_math_percentage, 
                         passing_reading_percentage, overall_passing_rate]

#create the dataframe with varible values as the data and assign easy-to-interpret column titles
district_summary = pd.DataFrame([district_summary_list], columns = ["Total Schools", "Total Students", 
                                                                  "Total Budget", "Average Math Score", 
                                                                  "Average Reading Score",	"% Passing Math", 
                                                                  "% Passing Reading", "% Overall Passing"])

# Format large numbers to include commas for easy viewing, and dollars as currency
district_summary["Total Students"] = district_summary["Total Students"].map("{:,}".format)
district_summary["Total Budget"] = district_summary["Total Budget"].map("${:,.2f}".format)

#format the percentage columns to be readable percentage values
district_summary["% Passing Math"] = district_summary["% Passing Math"].apply(lambda x: "{:.2f}%".format(x))
district_summary["% Passing Reading"] = district_summary["% Passing Reading"].apply(lambda x: "{:.2f}%".format(x))
district_summary["% Overall Passing"] = district_summary["% Overall Passing"].apply(lambda x: "{:.2f}%".format(x))


# Display the DataFrame
district_summary






# Use the code provided to select the type per school from school_data
school_types = school_data.set_index(["school_name"])["type"]


# Calculate the total student count per school from school_data
per_school_counts = school_data.set_index(["school_name"])["size"]


# Calculate the total school budget and per capita spending per school from school_data
per_school_budget = school_data.set_index(["school_name"])["budget"]
per_school_capita = per_school_budget / per_school_counts


# Calculate the average test scores per school from school_data_complete
per_school_math = school_data_complete.groupby('school_name')[['math_score']].mean()
per_school_reading = school_data_complete.groupby('school_name')[['reading_score']].mean()


# Calculate the number of students per school with math scores of 70 or higher from school_data_complete
students_passing_math = school_data_complete[(school_data_complete['math_score'] >= 70)]
school_students_passing_math = students_passing_math.groupby(['school_name']).size()


# Calculate the number of students per school with reading scores of 70 or higher from school_data_complete
students_passing_reading = school_data_complete[(school_data_complete['reading_score'] >= 70)]
school_students_passing_reading = students_passing_reading.groupby(['school_name']).size()


# Use the provided code to calculate the number of students per school that passed both math and reading with scores of 70 or higher
students_passing_math_and_reading = school_data_complete[
    (school_data_complete["reading_score"] >= 70) & 
    (school_data_complete["math_score"] >= 70)]

school_students_passing_math_and_reading = students_passing_math_and_reading.groupby(["school_name"]).size()


# Use the provided code to calculate the passing rates
per_school_passing_math = (school_students_passing_math / per_school_counts) * 100
per_school_passing_reading = (school_students_passing_reading / per_school_counts) * 100
overall_passing_rate = (school_students_passing_math_and_reading / per_school_counts) * 100


# create a dataframe to combine all the series that have the same school_name index
per_school_summary = pd.concat([school_types, per_school_counts, per_school_budget,
                         per_school_capita, per_school_math, per_school_reading,
                         per_school_passing_math, per_school_passing_reading,
                         overall_passing_rate], axis=1)

#set column names for the data in this data frame
per_school_summary.columns = ["School Type", "Total Students",
                              "Total School Budget", "Per Student Budget",
                              "Average Math Score", "Average Reading Score",
                              "% Passing Math", "% Passing Reading",
                              "% Overall Passing"]

# Format large numbers to include commas for easy viewing, and dollars as currency
per_school_summary["Total School Budget"] = per_school_summary["Total School Budget"].map("${:,.2f}".format)
per_school_summary["Per Student Budget"] = per_school_summary["Per Student Budget"].map("${:,.2f}".format)

# format the columns displaying percentages to be readable in percentage format
per_school_summary["% Passing Math"] = per_school_summary["% Passing Math"].map("{:.2f}%".format)
per_school_summary["% Passing Reading"] = per_school_summary["% Passing Reading"].map("{:.2f}%".format)
per_school_summary["% Overall Passing"] = per_school_summary["% Overall Passing"].map("{:.2f}%".format)

# Display the DataFrame in alphabetical order by index name
per_school_summary.sort_index()






# Sort the schools by `% Overall Passing` in descending order and display the top 5 rows.
top_schools = per_school_summary.sort_values('% Overall Passing', ascending=False)
top_schools.head(5)






# Sort the schools by `% Overall Passing` in ascending order and display the top 5 rows.
bottom_schools = per_school_summary.sort_values('% Overall Passing')
bottom_schools.head(5)





# Use the code provided to separate the data by grade
ninth_graders = school_data_complete[(school_data_complete["grade"] == "9th")]
tenth_graders = school_data_complete[(school_data_complete["grade"] == "10th")]
eleventh_graders = school_data_complete[(school_data_complete["grade"] == "11th")]
twelfth_graders = school_data_complete[(school_data_complete["grade"] == "12th")]

# Group by `school_name` and take the mean of the `math_score` column for each.
ninth_grader_math_scores = ninth_graders.groupby('school_name')[['math_score']].mean()
tenth_grader_math_scores = tenth_graders.groupby('school_name')[['math_score']].mean()
eleventh_grader_math_scores = eleventh_graders.groupby('school_name')[['math_score']].mean()
twelfth_grader_math_scores = twelfth_graders.groupby('school_name')[['math_score']].mean()

# Combine each of the scores above into single DataFrame called `math_scores_by_grade`
math_scores_by_grade = pd.concat([ninth_grader_math_scores, 
                                  tenth_grader_math_scores,
                                  eleventh_grader_math_scores,
                                  twelfth_grader_math_scores], axis=1)

# Name the columns of this new dataframe
math_scores_by_grade.columns = ["9th Grade Avg Math Scores", "10th Grade Avg Math Scores",
                                "11th Grade Avg Math Scores", "12th Grade Avg Math Scores"]

# Hide index name (in this case it would be numbers) to avoid confusion in displayed dataframe
math_scores_by_grade.index.name = None

# Display the DataFrame
math_scores_by_grade






# Use the code provided to separate the data by grade
ninth_graders = school_data_complete[(school_data_complete["grade"] == "9th")]
tenth_graders = school_data_complete[(school_data_complete["grade"] == "10th")]
eleventh_graders = school_data_complete[(school_data_complete["grade"] == "11th")]
twelfth_graders = school_data_complete[(school_data_complete["grade"] == "12th")]

# Group by `school_name` and take the mean of the the `reading_score` column for each.
ninth_grader_reading_scores = ninth_graders.groupby('school_name')[['reading_score']].mean()
tenth_grader_reading_scores = tenth_graders.groupby('school_name')[['reading_score']].mean()
eleventh_grader_reading_scores = eleventh_graders.groupby('school_name')[['reading_score']].mean()
twelfth_grader_reading_scores = twelfth_graders.groupby('school_name')[['reading_score']].mean()

# Combine each of the scores above into single DataFrame called `reading_scores_by_grade`
reading_scores_by_grade = pd.concat([ninth_grader_reading_scores, 
                                  tenth_grader_reading_scores,
                                  eleventh_grader_reading_scores,
                                  twelfth_grader_reading_scores], axis=1)

# Title the colums in this new dataframe
reading_scores_by_grade.columns = ["9th Grade Avg Reading Scores", 
                                   "10th Grade Avg Reading Scores", 
                                   "11th Grade Avg Reading Scores", 
                                   "12th Grade Avg Reading Scores"]

# Hide index name (in this case it would be numbers) to avoid confusion in displayed dataframe
reading_scores_by_grade.index.name = None

# Display the DataFrame
reading_scores_by_grade






# Establish the bins
spending_bins = [0, 585, 630, 645, 680]
labels = ["<$585", "$585-630", "$630-645", "$645-680"]



# Create a copy of the school summary for later aggregations
school_spending_df = per_school_summary.copy()



# Use `pd.cut` on the per_school_capita Series from earlier to categorize per student spending based on the bins.
school_spending_df["Spending Ranges (Per Student)"] = pd.cut(x=per_school_capita, bins=spending_bins, labels=labels, right=False)

# Convert Spending Ranges (Per Student) to a string
school_spending_df["Spending Ranges (Per Student)"] = school_spending_df["Spending Ranges (Per Student)"].astype(str)

#per_school_summary_sorted = per_school_summary.sort_index()
school_spending_df.sort_index()



# format these columns back to floats in order to do calculations on them
school_spending_df["% Passing Math"] = school_spending_df["% Passing Math"].replace('%', '', regex=True).astype(float)
school_spending_df["% Passing Reading"] = school_spending_df["% Passing Reading"].replace('%', '', regex=True).astype(float)
school_spending_df["% Overall Passing"] = school_spending_df["% Overall Passing"].replace('%', '', regex=True).astype(float)

#  Calculate averages for the desired columns.
spending_math_scores = school_spending_df.groupby(["Spending Ranges (Per Student)"])["Average Math Score"].mean()
spending_reading_scores = school_spending_df.groupby(["Spending Ranges (Per Student)"])["Average Reading Score"].mean()
spending_passing_math = school_spending_df.groupby(["Spending Ranges (Per Student)"])["% Passing Math"].mean().rename("% Passing Math")
spending_passing_reading = school_spending_df.groupby(["Spending Ranges (Per Student)"])["% Passing Reading"].mean().rename("% Passing Reading")
overall_passing_spending = school_spending_df.groupby(["Spending Ranges (Per Student)"])["% Overall Passing"].mean().rename("% Overall Passing")

# convert back to percentages for ease of reading in the dataframe
#spending_passing_math["% Passing Math"] = spending_passing_math["% Passing Math"].apply(lambda x: "{:.2f}%".format(x))
#spending_passing_reading["% Passing Reading"] = spending_passing_reading["% Passing Reading"].apply(lambda x: "{:.2f}%".format(x))
#overall_passing_spending["% Overall Passing"] = overall_passing_spending["% Overall Passing"].apply(lambda x: "{:.2f}%".format(x))
                                                                                                              



# Assemble into DataFrame
spending_summary = pd.DataFrame({
    "Average Math Score": spending_math_scores,
    "Average Reading Score": spending_reading_scores,
    "% Passing Math": spending_passing_math,
    "% Passing Reading": spending_passing_reading,
    "% Overall Passing": overall_passing_spending
})

spending_passing_math["% Passing Math"] = spending_passing_math["% Passing Math"].map("{:.2f}%".format)
spending_passing_reading["% Passing Reading"] = spending_passing_reading["% Passing Reading"].map("{:.2f}%".format)
overall_passing_spending["% Overall Passing"] = overall_passing_spending["% Overall Passing"].map("{:.2f}%".format)

# Display results
spending_summary






# Establish the bins.
size_bins = [0, 1000, 2000, 5000]
labels = ["Small (<1000)", "Medium (1000-2000)", "Large (2000-5000)"]



# Create a copy of the school summary for later aggregations
school_size_df = per_school_summary.copy()


# Use `pd.cut` on the per_school_counts Series from earlier to categorize school size based on the bins.
school_size_df["School Size"] = pd.cut(x=per_school_counts, bins=size_bins, labels=labels, right=False)

# Convert School Size to a string
school_size_df["School Size"] = school_size_df["School Size"].astype(str)
school_size_df



# Calculate averages for the desired columns.
size_math_scores = school_size_df.groupby(["School Size"])["Average Math Score"].mean()
size_reading_scores = school_size_df.groupby(["School Size"])["Average Reading Score"].mean()
size_passing_math = school_size_df.groupby(["School Size"])["% Passing Math"].mean()
size_passing_reading = school_size_df.groupby(["School Size"])["% Passing Reading"].mean()
size_overall_passing = school_size_df.groupby(["School Size"])["% Overall Passing"].mean()



# Create a DataFrame called `size_summary` that breaks down school performance based on school size (small, medium, or large).
# Use the scores above to create a new DataFrame called `size_summary`
size_summary = pd.concat([size_math_scores, size_reading_scores, 
                          size_passing_math, size_passing_reading,
                          size_overall_passing], axis=1)

# Display results
size_summary






# Group the per_school_summary DataFrame by "School Type" and average the results.
average_math_score_by_type = per_school_summary.groupby(["School Type"])["Average Math Score"].mean()
average_reading_score_by_type = per_school_summary.groupby(["School Type"])["Average Reading Score"].mean()
average_percent_passing_math_by_type = per_school_summary.groupby(["School Type"])["% Passing Math"].mean()
average_percent_passing_reading_by_type = per_school_summary.groupby(["School Type"])["% Passing Reading"].mean()
average_percent_overall_passing_by_type = per_school_summary.groupby(["School Type"])["% Overall Passing"].mean()



# Assemble the new data by type into a DataFrame called `type_summary`
type_summary =

# Display results
type_summary




